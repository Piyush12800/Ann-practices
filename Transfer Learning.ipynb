{
 "cells": [
  {
   "cell_type": "code",
   "execution_count": 1,
   "id": "224978e9",
   "metadata": {},
   "outputs": [
    {
     "name": "stderr",
     "output_type": "stream",
     "text": [
      "C:\\Users\\Piyush\\AppData\\Local\\Programs\\Python\\Python310\\lib\\site-packages\\requests\\__init__.py:102: RequestsDependencyWarning: urllib3 (1.26.8) or chardet (5.0.0)/charset_normalizer (2.0.12) doesn't match a supported version!\n",
      "  warnings.warn(\"urllib3 ({}) or chardet ({})/charset_normalizer ({}) doesn't match a supported \"\n"
     ]
    }
   ],
   "source": [
    "import numpy as np \n",
    "import pandas as pd\n",
    "import tensorflow as tf\n",
    "import seaborn as sns\n",
    "import matplotlib.pyplot as plt\n",
    "plt.style.use('fivethirtyeight')\n",
    "%load_ext tensorboard"
   ]
  },
  {
   "cell_type": "code",
   "execution_count": 2,
   "id": "e7e0da28",
   "metadata": {},
   "outputs": [],
   "source": [
    "(X_train_full, y_train_full), (X_test, y_test) = tf.keras.datasets.mnist.load_data()\n",
    "X_train_full = X_train_full / 255.0\n",
    "X_test = X_test / 255.0\n",
    "X_valid, X_train = X_train_full[:5000], X_train_full[5000:]\n",
    "y_valid, y_train = y_train_full[:5000], y_train_full[5000:]"
   ]
  },
  {
   "cell_type": "code",
   "execution_count": 3,
   "id": "49b6674f",
   "metadata": {},
   "outputs": [],
   "source": [
    "tf.random.set_seed(42)\n",
    "np.random.seed(42)\n",
    "\n",
    "LAYERS = [ tf.keras.layers.Flatten(input_shape=[28, 28]),\n",
    "    tf.keras.layers.Dense(300, kernel_initializer=\"he_normal\"),\n",
    "    tf.keras.layers.LeakyReLU(),\n",
    "    tf.keras.layers.Dense(100, kernel_initializer=\"he_normal\"),\n",
    "    tf.keras.layers.LeakyReLU(),\n",
    "    tf.keras.layers.Dense(10, activation=\"softmax\")]\n",
    "\n",
    "\n",
    "model = tf.keras.models.Sequential(LAYERS)"
   ]
  },
  {
   "cell_type": "code",
   "execution_count": 4,
   "id": "e4478ef5",
   "metadata": {},
   "outputs": [
    {
     "name": "stderr",
     "output_type": "stream",
     "text": [
      "WARNING:absl:`lr` is deprecated in Keras optimizer, please use `learning_rate` or use the legacy optimizer, e.g.,tf.keras.optimizers.legacy.SGD.\n"
     ]
    }
   ],
   "source": [
    "model.compile(loss = \"sparse_categorical_crossentropy\" , \n",
    "              optimizer = tf.keras.optimizers.SGD(lr = 1e-3) , metrics= [\"accuracy\"])"
   ]
  },
  {
   "cell_type": "code",
   "execution_count": null,
   "id": "7bfb8c97",
   "metadata": {},
   "outputs": [],
   "source": []
  },
  {
   "cell_type": "code",
   "execution_count": null,
   "id": "ba2ef511",
   "metadata": {},
   "outputs": [],
   "source": []
  },
  {
   "cell_type": "code",
   "execution_count": 5,
   "id": "0711602d",
   "metadata": {},
   "outputs": [
    {
     "name": "stdout",
     "output_type": "stream",
     "text": [
      "Model: \"sequential\"\n",
      "_________________________________________________________________\n",
      " Layer (type)                Output Shape              Param #   \n",
      "=================================================================\n",
      " flatten (Flatten)           (None, 784)               0         \n",
      "                                                                 \n",
      " dense (Dense)               (None, 300)               235500    \n",
      "                                                                 \n",
      " leaky_re_lu (LeakyReLU)     (None, 300)               0         \n",
      "                                                                 \n",
      " dense_1 (Dense)             (None, 100)               30100     \n",
      "                                                                 \n",
      " leaky_re_lu_1 (LeakyReLU)   (None, 100)               0         \n",
      "                                                                 \n",
      " dense_2 (Dense)             (None, 10)                1010      \n",
      "                                                                 \n",
      "=================================================================\n",
      "Total params: 266,610\n",
      "Trainable params: 266,610\n",
      "Non-trainable params: 0\n",
      "_________________________________________________________________\n"
     ]
    }
   ],
   "source": [
    "model.summary()"
   ]
  },
  {
   "cell_type": "code",
   "execution_count": null,
   "id": "23f1138b",
   "metadata": {},
   "outputs": [],
   "source": []
  },
  {
   "cell_type": "code",
   "execution_count": null,
   "id": "328d0ca3",
   "metadata": {},
   "outputs": [],
   "source": []
  },
  {
   "cell_type": "code",
   "execution_count": 6,
   "id": "ecd7d46c",
   "metadata": {},
   "outputs": [
    {
     "name": "stdout",
     "output_type": "stream",
     "text": [
      "Epoch 1/10\n",
      "1719/1719 - 5s - loss: 0.5571 - accuracy: 0.8493 - val_loss: 0.3044 - val_accuracy: 0.9162 - 5s/epoch - 3ms/step\n",
      "Epoch 2/10\n",
      "1719/1719 - 3s - loss: 0.2971 - accuracy: 0.9150 - val_loss: 0.2538 - val_accuracy: 0.9262 - 3s/epoch - 2ms/step\n",
      "Epoch 3/10\n",
      "1719/1719 - 4s - loss: 0.2537 - accuracy: 0.9276 - val_loss: 0.2207 - val_accuracy: 0.9366 - 4s/epoch - 2ms/step\n",
      "Epoch 4/10\n",
      "1719/1719 - 3s - loss: 0.2240 - accuracy: 0.9363 - val_loss: 0.2009 - val_accuracy: 0.9424 - 3s/epoch - 2ms/step\n",
      "Epoch 5/10\n",
      "1719/1719 - 3s - loss: 0.2015 - accuracy: 0.9428 - val_loss: 0.1835 - val_accuracy: 0.9466 - 3s/epoch - 2ms/step\n",
      "Epoch 6/10\n",
      "1719/1719 - 3s - loss: 0.1827 - accuracy: 0.9484 - val_loss: 0.1705 - val_accuracy: 0.9518 - 3s/epoch - 2ms/step\n",
      "Epoch 7/10\n",
      "1719/1719 - 3s - loss: 0.1671 - accuracy: 0.9526 - val_loss: 0.1575 - val_accuracy: 0.9564 - 3s/epoch - 2ms/step\n",
      "Epoch 8/10\n",
      "1719/1719 - 3s - loss: 0.1537 - accuracy: 0.9561 - val_loss: 0.1516 - val_accuracy: 0.9578 - 3s/epoch - 2ms/step\n",
      "Epoch 9/10\n",
      "1719/1719 - 3s - loss: 0.1422 - accuracy: 0.9598 - val_loss: 0.1392 - val_accuracy: 0.9604 - 3s/epoch - 2ms/step\n",
      "Epoch 10/10\n",
      "1719/1719 - 3s - loss: 0.1323 - accuracy: 0.9624 - val_loss: 0.1307 - val_accuracy: 0.9626 - 3s/epoch - 2ms/step\n"
     ]
    }
   ],
   "source": [
    "history = model.fit(X_train, y_train, epochs=10,\n",
    "                    validation_data=(X_valid, y_valid), verbose=2)"
   ]
  },
  {
   "cell_type": "code",
   "execution_count": 7,
   "id": "87e8723d",
   "metadata": {},
   "outputs": [],
   "source": [
    "model.save('full_model.h5')"
   ]
  },
  {
   "cell_type": "markdown",
   "id": "bbe7e53a",
   "metadata": {},
   "source": [
    "# Transfer Learning"
   ]
  },
  {
   "cell_type": "code",
   "execution_count": 9,
   "id": "596f75dc",
   "metadata": {},
   "outputs": [],
   "source": [
    "pretrained_model = tf.keras.models.load_model('./full_model.h5')"
   ]
  },
  {
   "cell_type": "code",
   "execution_count": 10,
   "id": "e9f0ffb6",
   "metadata": {},
   "outputs": [
    {
     "name": "stdout",
     "output_type": "stream",
     "text": [
      "Model: \"sequential\"\n",
      "_________________________________________________________________\n",
      " Layer (type)                Output Shape              Param #   \n",
      "=================================================================\n",
      " flatten (Flatten)           (None, 784)               0         \n",
      "                                                                 \n",
      " dense (Dense)               (None, 300)               235500    \n",
      "                                                                 \n",
      " leaky_re_lu (LeakyReLU)     (None, 300)               0         \n",
      "                                                                 \n",
      " dense_1 (Dense)             (None, 100)               30100     \n",
      "                                                                 \n",
      " leaky_re_lu_1 (LeakyReLU)   (None, 100)               0         \n",
      "                                                                 \n",
      " dense_2 (Dense)             (None, 10)                1010      \n",
      "                                                                 \n",
      "=================================================================\n",
      "Total params: 266,610\n",
      "Trainable params: 266,610\n",
      "Non-trainable params: 0\n",
      "_________________________________________________________________\n"
     ]
    }
   ],
   "source": [
    "pretrained_model.summary()"
   ]
  },
  {
   "cell_type": "code",
   "execution_count": 12,
   "id": "817554c3",
   "metadata": {},
   "outputs": [
    {
     "data": {
      "text/plain": [
       "[<keras.layers.reshaping.flatten.Flatten at 0x1c878a582e0>,\n",
       " <keras.layers.core.dense.Dense at 0x1c878a585b0>,\n",
       " <keras.layers.activation.leaky_relu.LeakyReLU at 0x1c878a595d0>,\n",
       " <keras.layers.core.dense.Dense at 0x1c878a59180>,\n",
       " <keras.layers.activation.leaky_relu.LeakyReLU at 0x1c878a5ace0>,\n",
       " <keras.layers.core.dense.Dense at 0x1c878a5ac20>]"
      ]
     },
     "execution_count": 12,
     "metadata": {},
     "output_type": "execute_result"
    }
   ],
   "source": [
    "pretrained_model.layers"
   ]
  },
  {
   "cell_type": "code",
   "execution_count": 14,
   "id": "919aca43",
   "metadata": {},
   "outputs": [
    {
     "name": "stdout",
     "output_type": "stream",
     "text": [
      "flatten : True\n",
      "dense : True\n",
      "leaky_re_lu : True\n",
      "dense_1 : True\n",
      "leaky_re_lu_1 : True\n",
      "dense_2 : True\n"
     ]
    }
   ],
   "source": [
    "for layer in pretrained_model.layers:\n",
    "    print(f\"{layer.name} : {layer.trainable}\")"
   ]
  },
  {
   "cell_type": "code",
   "execution_count": 16,
   "id": "c36eeb7d",
   "metadata": {},
   "outputs": [
    {
     "name": "stdout",
     "output_type": "stream",
     "text": [
      "flatten : False\n",
      "dense : False\n",
      "leaky_re_lu : False\n",
      "dense_1 : False\n",
      "leaky_re_lu_1 : False\n"
     ]
    }
   ],
   "source": [
    "for layer in pretrained_model.layers[:-1]:\n",
    "    layer.trainable = False\n",
    "    print(f\"{layer.name} : {layer.trainable}\")"
   ]
  },
  {
   "cell_type": "code",
   "execution_count": 17,
   "id": "8b9a32a0",
   "metadata": {},
   "outputs": [
    {
     "name": "stdout",
     "output_type": "stream",
     "text": [
      "flatten : False\n",
      "dense : False\n",
      "leaky_re_lu : False\n",
      "dense_1 : False\n",
      "leaky_re_lu_1 : False\n",
      "dense_2 : True\n"
     ]
    }
   ],
   "source": [
    "for layer in pretrained_model.layers:\n",
    "    print(f\"{layer.name} : {layer.trainable}\")"
   ]
  },
  {
   "cell_type": "code",
   "execution_count": 18,
   "id": "20f36540",
   "metadata": {},
   "outputs": [],
   "source": [
    "lower_pretrained_layers = pretrained_model.layers[:-1]\n",
    "\n",
    "new_model = tf.keras.models.Sequential(lower_pretrained_layers)\n",
    "new_model.add(\n",
    "    tf.keras.layers.Dense(2 , activation=\"softmax\")\n",
    "\n",
    ")"
   ]
  },
  {
   "cell_type": "code",
   "execution_count": 19,
   "id": "1ba5d09e",
   "metadata": {
    "scrolled": true
   },
   "outputs": [
    {
     "name": "stdout",
     "output_type": "stream",
     "text": [
      "Model: \"sequential_1\"\n",
      "_________________________________________________________________\n",
      " Layer (type)                Output Shape              Param #   \n",
      "=================================================================\n",
      " flatten (Flatten)           (None, 784)               0         \n",
      "                                                                 \n",
      " dense (Dense)               (None, 300)               235500    \n",
      "                                                                 \n",
      " leaky_re_lu (LeakyReLU)     (None, 300)               0         \n",
      "                                                                 \n",
      " dense_1 (Dense)             (None, 100)               30100     \n",
      "                                                                 \n",
      " leaky_re_lu_1 (LeakyReLU)   (None, 100)               0         \n",
      "                                                                 \n",
      " dense_3 (Dense)             (None, 2)                 202       \n",
      "                                                                 \n",
      "=================================================================\n",
      "Total params: 265,802\n",
      "Trainable params: 202\n",
      "Non-trainable params: 265,600\n",
      "_________________________________________________________________\n"
     ]
    }
   ],
   "source": [
    "new_model.summary()"
   ]
  },
  {
   "cell_type": "code",
   "execution_count": 21,
   "id": "f07cbf1a",
   "metadata": {},
   "outputs": [
    {
     "data": {
      "text/plain": [
       "array([0, 1, 2, 3, 4, 5, 6, 7, 8, 9], dtype=uint8)"
      ]
     },
     "execution_count": 21,
     "metadata": {},
     "output_type": "execute_result"
    }
   ],
   "source": [
    "np.unique(y_train)\n"
   ]
  },
  {
   "cell_type": "code",
   "execution_count": 22,
   "id": "b03b4c50",
   "metadata": {},
   "outputs": [
    {
     "data": {
      "text/plain": [
       "array([0, 0, 1, ..., 0, 1, 1])"
      ]
     },
     "execution_count": 22,
     "metadata": {},
     "output_type": "execute_result"
    }
   ],
   "source": [
    "np.where(y_train%2== 0 , 1 , 0)"
   ]
  },
  {
   "cell_type": "code",
   "execution_count": 24,
   "id": "c9209af9",
   "metadata": {},
   "outputs": [
    {
     "data": {
      "text/plain": [
       "(7, 8)"
      ]
     },
     "execution_count": 24,
     "metadata": {},
     "output_type": "execute_result"
    }
   ],
   "source": [
    "y_train[0] , y_train[-1]"
   ]
  },
  {
   "cell_type": "code",
   "execution_count": null,
   "id": "ebb4ec04",
   "metadata": {},
   "outputs": [],
   "source": []
  },
  {
   "cell_type": "code",
   "execution_count": null,
   "id": "a3300ef4",
   "metadata": {},
   "outputs": [],
   "source": []
  },
  {
   "cell_type": "code",
   "execution_count": null,
   "id": "2fa53180",
   "metadata": {},
   "outputs": [],
   "source": []
  },
  {
   "cell_type": "code",
   "execution_count": 37,
   "id": "0d019a89",
   "metadata": {},
   "outputs": [],
   "source": [
    "def update_odd_even_label (labels):\n",
    "    for idx , label in enumerate(labels):\n",
    "        labels[idx] =  np.where(label %2== 0 , 1 , 0)\n",
    "    return labels"
   ]
  },
  {
   "cell_type": "code",
   "execution_count": 40,
   "id": "3c245d8d",
   "metadata": {},
   "outputs": [
    {
     "data": {
      "text/plain": [
       "[array(0),\n",
       " array(1),\n",
       " array(0),\n",
       " array(1),\n",
       " array(0),\n",
       " array(1),\n",
       " array(0),\n",
       " array(1)]"
      ]
     },
     "execution_count": 40,
     "metadata": {},
     "output_type": "execute_result"
    }
   ],
   "source": [
    "alpha = [1,2,3,4,5,6,7,8]\n",
    "alp = update_odd_even_label(alpha)\n",
    "alp"
   ]
  },
  {
   "cell_type": "code",
   "execution_count": null,
   "id": "241fbf3d",
   "metadata": {},
   "outputs": [],
   "source": []
  },
  {
   "cell_type": "code",
   "execution_count": null,
   "id": "a69ae6df",
   "metadata": {},
   "outputs": [],
   "source": []
  },
  {
   "cell_type": "code",
   "execution_count": null,
   "id": "9596ac68",
   "metadata": {},
   "outputs": [],
   "source": []
  },
  {
   "cell_type": "code",
   "execution_count": null,
   "id": "2fb16b0a",
   "metadata": {},
   "outputs": [],
   "source": []
  },
  {
   "cell_type": "code",
   "execution_count": 41,
   "id": "d2bce345",
   "metadata": {},
   "outputs": [],
   "source": [
    "y_train_bin , y_test_bin , y_valid_bin  =update_odd_even_label([y_train , y_test , y_valid])"
   ]
  },
  {
   "cell_type": "code",
   "execution_count": 45,
   "id": "1f559dfe",
   "metadata": {},
   "outputs": [
    {
     "data": {
      "text/plain": [
       "array([0, 1])"
      ]
     },
     "execution_count": 45,
     "metadata": {},
     "output_type": "execute_result"
    }
   ],
   "source": [
    "np.unique(y_train_bin)"
   ]
  },
  {
   "cell_type": "code",
   "execution_count": 47,
   "id": "aee6fe47",
   "metadata": {},
   "outputs": [],
   "source": [
    "new_model.compile(loss=\"sparse_categorical_crossentropy\",\n",
    "              optimizer=tf.keras.optimizers.SGD(learning_rate=1e-3),\n",
    "              metrics=[\"accuracy\"])"
   ]
  },
  {
   "cell_type": "code",
   "execution_count": 50,
   "id": "13c0cc66",
   "metadata": {},
   "outputs": [
    {
     "name": "stdout",
     "output_type": "stream",
     "text": [
      "Epoch 1/10\n",
      "1719/1719 [==============================] - 3s 2ms/step - loss: 0.1060 - accuracy: 0.9634 - val_loss: 0.0796 - val_accuracy: 0.9728\n",
      "Epoch 2/10\n",
      "1719/1719 [==============================] - 3s 2ms/step - loss: 0.0843 - accuracy: 0.9705 - val_loss: 0.0845 - val_accuracy: 0.9688\n",
      "Epoch 3/10\n",
      "1719/1719 [==============================] - 3s 2ms/step - loss: 0.0732 - accuracy: 0.9741 - val_loss: 0.0619 - val_accuracy: 0.9780\n",
      "Epoch 4/10\n",
      "1719/1719 [==============================] - 3s 2ms/step - loss: 0.0661 - accuracy: 0.9777 - val_loss: 0.0604 - val_accuracy: 0.9786\n",
      "Epoch 5/10\n",
      "1719/1719 [==============================] - 3s 2ms/step - loss: 0.0596 - accuracy: 0.9801 - val_loss: 0.0623 - val_accuracy: 0.9776\n",
      "Epoch 6/10\n",
      "1719/1719 [==============================] - 3s 2ms/step - loss: 0.0546 - accuracy: 0.9817 - val_loss: 0.0707 - val_accuracy: 0.9726\n",
      "Epoch 7/10\n",
      "1719/1719 [==============================] - 3s 2ms/step - loss: 0.0507 - accuracy: 0.9827 - val_loss: 0.0488 - val_accuracy: 0.9836\n",
      "Epoch 8/10\n",
      "1719/1719 [==============================] - 3s 2ms/step - loss: 0.0467 - accuracy: 0.9842 - val_loss: 0.0719 - val_accuracy: 0.9732\n",
      "Epoch 9/10\n",
      "1719/1719 [==============================] - 3s 2ms/step - loss: 0.0438 - accuracy: 0.9850 - val_loss: 0.0445 - val_accuracy: 0.9852\n",
      "Epoch 10/10\n",
      "1719/1719 [==============================] - 3s 2ms/step - loss: 0.0416 - accuracy: 0.9860 - val_loss: 0.0467 - val_accuracy: 0.9832\n"
     ]
    }
   ],
   "source": [
    "history = model.fit(X_train , y_train_bin ,epochs = 10, validation_data = (X_valid , y_valid_bin) , verbose = 1)"
   ]
  },
  {
   "cell_type": "code",
   "execution_count": 51,
   "id": "b6a5766d",
   "metadata": {},
   "outputs": [
    {
     "name": "stdout",
     "output_type": "stream",
     "text": [
      "313/313 [==============================] - 1s 1ms/step - loss: 0.8874 - accuracy: 0.5766\n"
     ]
    },
    {
     "data": {
      "text/plain": [
       "[0.8874170780181885, 0.5766000151634216]"
      ]
     },
     "execution_count": 51,
     "metadata": {},
     "output_type": "execute_result"
    }
   ],
   "source": [
    "new_model.evaluate(X_test, y_test_bin)"
   ]
  },
  {
   "cell_type": "code",
   "execution_count": 52,
   "id": "7e2b68d0",
   "metadata": {},
   "outputs": [
    {
     "data": {
      "text/plain": [
       "(array([7, 2, 1], dtype=uint8), array([0, 1, 0]))"
      ]
     },
     "execution_count": 52,
     "metadata": {},
     "output_type": "execute_result"
    }
   ],
   "source": [
    "X_new = X_test[:3]\n",
    "\n",
    "y_test[:3], y_test_bin[:3]"
   ]
  },
  {
   "cell_type": "code",
   "execution_count": 59,
   "id": "ed22022d",
   "metadata": {},
   "outputs": [
    {
     "name": "stdout",
     "output_type": "stream",
     "text": [
      "1/1 [==============================] - 0s 17ms/step\n"
     ]
    },
    {
     "data": {
      "text/plain": [
       "array([0, 0, 0], dtype=int64)"
      ]
     },
     "execution_count": 59,
     "metadata": {},
     "output_type": "execute_result"
    }
   ],
   "source": [
    "np.argmax(new_model.predict(X_new), axis = -1)"
   ]
  },
  {
   "cell_type": "code",
   "execution_count": null,
   "id": "14e532bf",
   "metadata": {},
   "outputs": [],
   "source": []
  },
  {
   "cell_type": "code",
   "execution_count": null,
   "id": "71b61679",
   "metadata": {},
   "outputs": [],
   "source": []
  },
  {
   "cell_type": "code",
   "execution_count": null,
   "id": "a00b7cf3",
   "metadata": {},
   "outputs": [],
   "source": []
  },
  {
   "cell_type": "code",
   "execution_count": null,
   "id": "fcda9123",
   "metadata": {},
   "outputs": [],
   "source": []
  },
  {
   "cell_type": "code",
   "execution_count": null,
   "id": "96d73d33",
   "metadata": {},
   "outputs": [],
   "source": []
  },
  {
   "cell_type": "code",
   "execution_count": null,
   "id": "8ed15fd6",
   "metadata": {},
   "outputs": [],
   "source": []
  },
  {
   "cell_type": "code",
   "execution_count": null,
   "id": "ccab262d",
   "metadata": {},
   "outputs": [],
   "source": []
  },
  {
   "cell_type": "code",
   "execution_count": null,
   "id": "cb609675",
   "metadata": {},
   "outputs": [],
   "source": []
  },
  {
   "cell_type": "code",
   "execution_count": null,
   "id": "aacb856e",
   "metadata": {},
   "outputs": [],
   "source": []
  },
  {
   "cell_type": "code",
   "execution_count": null,
   "id": "7c13b200",
   "metadata": {},
   "outputs": [],
   "source": []
  },
  {
   "cell_type": "code",
   "execution_count": null,
   "id": "7303612c",
   "metadata": {},
   "outputs": [],
   "source": []
  },
  {
   "cell_type": "code",
   "execution_count": null,
   "id": "547c92a7",
   "metadata": {},
   "outputs": [],
   "source": []
  },
  {
   "cell_type": "code",
   "execution_count": null,
   "id": "b8dd6f8f",
   "metadata": {},
   "outputs": [],
   "source": []
  }
 ],
 "metadata": {
  "kernelspec": {
   "display_name": "Python 3 (ipykernel)",
   "language": "python",
   "name": "python3"
  },
  "language_info": {
   "codemirror_mode": {
    "name": "ipython",
    "version": 3
   },
   "file_extension": ".py",
   "mimetype": "text/x-python",
   "name": "python",
   "nbconvert_exporter": "python",
   "pygments_lexer": "ipython3",
   "version": "3.10.10"
  }
 },
 "nbformat": 4,
 "nbformat_minor": 5
}
